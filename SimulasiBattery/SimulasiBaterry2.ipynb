{
 "cells": [
  {
   "cell_type": "markdown",
   "metadata": {},
   "source": [
    "# Simulasi Menghabiskan Kapasitas Baterai Sederhana\n",
    "Model <i>Discharge</i> Baterai sederhana adalah sbb<br>\n",
    "C[n] = C[n-1] - I[n] * $\\Delta$t"
   ]
  },
  {
   "cell_type": "markdown",
   "metadata": {},
   "source": [
    "C = Kapasitas Baterai [Ah] <br>\n",
    "I = Arus yang mengalir [A] <br>\n",
    "$\\Delta$t = Waktu Cuplik [detik]"
   ]
  },
  {
   "cell_type": "code",
   "execution_count": 1,
   "metadata": {},
   "outputs": [],
   "source": [
    "## import Library\n",
    "import numpy as np\n",
    "import matplotlib.pyplot as plt\n",
    "import pandas as pd"
   ]
  },
  {
   "cell_type": "markdown",
   "metadata": {},
   "source": [
    "# Simulasi 1\n",
    "Parameter : <br>\n",
    "Waktu = 3600 detik / 1 jam<br>\n",
    "Arus = 2 A<br>\n",
    "sampling = 0.1 detik<br>\n",
    "Kapasitas Battery = 2 Ah"
   ]
  },
  {
   "cell_type": "code",
   "execution_count": 2,
   "metadata": {},
   "outputs": [
    {
     "data": {
      "text/html": [
       "<div>\n",
       "<style scoped>\n",
       "    .dataframe tbody tr th:only-of-type {\n",
       "        vertical-align: middle;\n",
       "    }\n",
       "\n",
       "    .dataframe tbody tr th {\n",
       "        vertical-align: top;\n",
       "    }\n",
       "\n",
       "    .dataframe thead th {\n",
       "        text-align: right;\n",
       "    }\n",
       "</style>\n",
       "<table border=\"1\" class=\"dataframe\">\n",
       "  <thead>\n",
       "    <tr style=\"text-align: right;\">\n",
       "      <th></th>\n",
       "      <th>waktu</th>\n",
       "    </tr>\n",
       "  </thead>\n",
       "  <tbody>\n",
       "    <tr>\n",
       "      <th>35995</th>\n",
       "      <td>3599.5</td>\n",
       "    </tr>\n",
       "    <tr>\n",
       "      <th>35996</th>\n",
       "      <td>3599.6</td>\n",
       "    </tr>\n",
       "    <tr>\n",
       "      <th>35997</th>\n",
       "      <td>3599.7</td>\n",
       "    </tr>\n",
       "    <tr>\n",
       "      <th>35998</th>\n",
       "      <td>3599.8</td>\n",
       "    </tr>\n",
       "    <tr>\n",
       "      <th>35999</th>\n",
       "      <td>3599.9</td>\n",
       "    </tr>\n",
       "  </tbody>\n",
       "</table>\n",
       "</div>"
      ],
      "text/plain": [
       "        waktu\n",
       "35995  3599.5\n",
       "35996  3599.6\n",
       "35997  3599.7\n",
       "35998  3599.8\n",
       "35999  3599.9"
      ]
     },
     "execution_count": 2,
     "metadata": {},
     "output_type": "execute_result"
    }
   ],
   "source": [
    "waktu = np.arange(0,3600,0.1)\n",
    "df = pd.DataFrame({'waktu' : waktu})\n",
    "df.tail()"
   ]
  },
  {
   "cell_type": "code",
   "execution_count": 3,
   "metadata": {},
   "outputs": [
    {
     "data": {
      "text/html": [
       "<div>\n",
       "<style scoped>\n",
       "    .dataframe tbody tr th:only-of-type {\n",
       "        vertical-align: middle;\n",
       "    }\n",
       "\n",
       "    .dataframe tbody tr th {\n",
       "        vertical-align: top;\n",
       "    }\n",
       "\n",
       "    .dataframe thead th {\n",
       "        text-align: right;\n",
       "    }\n",
       "</style>\n",
       "<table border=\"1\" class=\"dataframe\">\n",
       "  <thead>\n",
       "    <tr style=\"text-align: right;\">\n",
       "      <th></th>\n",
       "      <th>waktu</th>\n",
       "      <th>arus</th>\n",
       "    </tr>\n",
       "  </thead>\n",
       "  <tbody>\n",
       "    <tr>\n",
       "      <th>0</th>\n",
       "      <td>0.0</td>\n",
       "      <td>2</td>\n",
       "    </tr>\n",
       "    <tr>\n",
       "      <th>1</th>\n",
       "      <td>0.1</td>\n",
       "      <td>2</td>\n",
       "    </tr>\n",
       "    <tr>\n",
       "      <th>2</th>\n",
       "      <td>0.2</td>\n",
       "      <td>2</td>\n",
       "    </tr>\n",
       "    <tr>\n",
       "      <th>3</th>\n",
       "      <td>0.3</td>\n",
       "      <td>2</td>\n",
       "    </tr>\n",
       "    <tr>\n",
       "      <th>4</th>\n",
       "      <td>0.4</td>\n",
       "      <td>2</td>\n",
       "    </tr>\n",
       "  </tbody>\n",
       "</table>\n",
       "</div>"
      ],
      "text/plain": [
       "   waktu  arus\n",
       "0    0.0     2\n",
       "1    0.1     2\n",
       "2    0.2     2\n",
       "3    0.3     2\n",
       "4    0.4     2"
      ]
     },
     "execution_count": 3,
     "metadata": {},
     "output_type": "execute_result"
    }
   ],
   "source": [
    "df['arus'] = 2\n",
    "df.head()"
   ]
  },
  {
   "cell_type": "code",
   "execution_count": 4,
   "metadata": {},
   "outputs": [
    {
     "data": {
      "text/html": [
       "<div>\n",
       "<style scoped>\n",
       "    .dataframe tbody tr th:only-of-type {\n",
       "        vertical-align: middle;\n",
       "    }\n",
       "\n",
       "    .dataframe tbody tr th {\n",
       "        vertical-align: top;\n",
       "    }\n",
       "\n",
       "    .dataframe thead th {\n",
       "        text-align: right;\n",
       "    }\n",
       "</style>\n",
       "<table border=\"1\" class=\"dataframe\">\n",
       "  <thead>\n",
       "    <tr style=\"text-align: right;\">\n",
       "      <th></th>\n",
       "      <th>waktu</th>\n",
       "      <th>arus</th>\n",
       "    </tr>\n",
       "  </thead>\n",
       "  <tbody>\n",
       "    <tr>\n",
       "      <th>35995</th>\n",
       "      <td>3599.5</td>\n",
       "      <td>2</td>\n",
       "    </tr>\n",
       "    <tr>\n",
       "      <th>35996</th>\n",
       "      <td>3599.6</td>\n",
       "      <td>2</td>\n",
       "    </tr>\n",
       "    <tr>\n",
       "      <th>35997</th>\n",
       "      <td>3599.7</td>\n",
       "      <td>2</td>\n",
       "    </tr>\n",
       "    <tr>\n",
       "      <th>35998</th>\n",
       "      <td>3599.8</td>\n",
       "      <td>2</td>\n",
       "    </tr>\n",
       "    <tr>\n",
       "      <th>35999</th>\n",
       "      <td>3599.9</td>\n",
       "      <td>2</td>\n",
       "    </tr>\n",
       "  </tbody>\n",
       "</table>\n",
       "</div>"
      ],
      "text/plain": [
       "        waktu  arus\n",
       "35995  3599.5     2\n",
       "35996  3599.6     2\n",
       "35997  3599.7     2\n",
       "35998  3599.8     2\n",
       "35999  3599.9     2"
      ]
     },
     "execution_count": 4,
     "metadata": {},
     "output_type": "execute_result"
    }
   ],
   "source": [
    "## Mulai Simulasi\n",
    "\n",
    "KapasitasBatterySkrg = np.zeros(len(df))\n",
    "KapasitasBatterySkrg[0] = 2 #Ah\n",
    "\n",
    "ts = 0.1\n",
    "\n",
    "for i in df.index-1:\n",
    "    try:\n",
    "        KapasitasBatterySkrg[i+1] = KapasitasBatterySkrg[i] - df['arus'][i] * (ts/3600) # Konvert dari s/detik ke h/jam\n",
    "    except:\n",
    "        continue\n",
    "df.tail()"
   ]
  },
  {
   "cell_type": "code",
   "execution_count": 5,
   "metadata": {},
   "outputs": [
    {
     "data": {
      "image/png": "[encoded data removed]",
      "text/plain": [
       "<Figure size 432x288 with 1 Axes>"
      ]
     },
     "metadata": {
      "needs_background": "light"
     },
     "output_type": "display_data"
    }
   ],
   "source": [
    "df['KapasitasBattery'] = KapasitasBatterySkrg\n",
    "plt.plot(df['waktu'],df['KapasitasBattery'])\n",
    "plt.xlabel(\"Waktu(detik)\")\n",
    "plt.ylabel(\"C(Ah)\")\n",
    "plt.title(\"Kapasitas Baterainya\")\n",
    "plt.grid()\n",
    "plt.show()"
   ]
  },
  {
   "cell_type": "code",
   "execution_count": 6,
   "metadata": {},
   "outputs": [
    {
     "data": {
      "text/html": [
       "<div>\n",
       "<style scoped>\n",
       "    .dataframe tbody tr th:only-of-type {\n",
       "        vertical-align: middle;\n",
       "    }\n",
       "\n",
       "    .dataframe tbody tr th {\n",
       "        vertical-align: top;\n",
       "    }\n",
       "\n",
       "    .dataframe thead th {\n",
       "        text-align: right;\n",
       "    }\n",
       "</style>\n",
       "<table border=\"1\" class=\"dataframe\">\n",
       "  <thead>\n",
       "    <tr style=\"text-align: right;\">\n",
       "      <th></th>\n",
       "      <th>waktu</th>\n",
       "      <th>arus</th>\n",
       "      <th>KapasitasBattery</th>\n",
       "    </tr>\n",
       "  </thead>\n",
       "  <tbody>\n",
       "    <tr>\n",
       "      <th>35995</th>\n",
       "      <td>3599.5</td>\n",
       "      <td>2</td>\n",
       "      <td>0.000278</td>\n",
       "    </tr>\n",
       "    <tr>\n",
       "      <th>35996</th>\n",
       "      <td>3599.6</td>\n",
       "      <td>2</td>\n",
       "      <td>0.000222</td>\n",
       "    </tr>\n",
       "    <tr>\n",
       "      <th>35997</th>\n",
       "      <td>3599.7</td>\n",
       "      <td>2</td>\n",
       "      <td>0.000167</td>\n",
       "    </tr>\n",
       "    <tr>\n",
       "      <th>35998</th>\n",
       "      <td>3599.8</td>\n",
       "      <td>2</td>\n",
       "      <td>0.000111</td>\n",
       "    </tr>\n",
       "    <tr>\n",
       "      <th>35999</th>\n",
       "      <td>3599.9</td>\n",
       "      <td>2</td>\n",
       "      <td>0.000056</td>\n",
       "    </tr>\n",
       "  </tbody>\n",
       "</table>\n",
       "</div>"
      ],
      "text/plain": [
       "        waktu  arus  KapasitasBattery\n",
       "35995  3599.5     2          0.000278\n",
       "35996  3599.6     2          0.000222\n",
       "35997  3599.7     2          0.000167\n",
       "35998  3599.8     2          0.000111\n",
       "35999  3599.9     2          0.000056"
      ]
     },
     "execution_count": 6,
     "metadata": {},
     "output_type": "execute_result"
    }
   ],
   "source": [
    "df.tail()"
   ]
  },
  {
   "cell_type": "code",
   "execution_count": 7,
   "metadata": {},
   "outputs": [
    {
     "data": {
      "image/png": "[encoded data removed]",
      "text/plain": [
       "<Figure size 432x288 with 1 Axes>"
      ]
     },
     "metadata": {
      "needs_background": "light"
     },
     "output_type": "display_data"
    }
   ],
   "source": [
    "# df['KapasitasBattery'] = KapasitasBatterySkrg\n",
    "plt.plot(df['waktu'],df['arus'])\n",
    "plt.xlabel(\"Waktu(detik)\")\n",
    "plt.ylabel(\"Arus(A)\")\n",
    "plt.title(\"Arus Yang Mengalir\")\n",
    "plt.grid()\n",
    "plt.show()"
   ]
  },
  {
   "cell_type": "markdown",
   "metadata": {},
   "source": [
    "# Simulasi 2\n",
    "Parameter : <br>\n",
    "Waktu = 3600 detik / 1 jam<br>\n",
    "Arus = 1 A<br>\n",
    "sampling = 0.1 detik<br>\n",
    "Kapasitas Battery = 2 Ah<br>\n",
    "Prediksnya, baterai masih setengah dalam waktu 1 jam"
   ]
  },
  {
   "cell_type": "code",
   "execution_count": 9,
   "metadata": {},
   "outputs": [],
   "source": [
    "## Mulai Simulasi\n",
    "\n",
    "KapasitasBatterySkrg = np.zeros(len(df))\n",
    "KapasitasBatterySkrg[0] = 2 #Ah\n",
    "df['arus'] = 1\n",
    "ts = 0.1\n",
    "\n",
    "for i in df.index-1:\n",
    "    try:\n",
    "        KapasitasBatterySkrg[i+1] = KapasitasBatterySkrg[i] - df['arus'][i] * (ts/3600) # Konvert dari s/detik ke h/jam\n",
    "    except:\n",
    "        continue"
   ]
  },
  {
   "cell_type": "code",
   "execution_count": 10,
   "metadata": {},
   "outputs": [
    {
     "data": {
      "image/png": "[encoded data removed]",
      "text/plain": [
       "<Figure size 432x288 with 1 Axes>"
      ]
     },
     "metadata": {
      "needs_background": "light"
     },
     "output_type": "display_data"
    }
   ],
   "source": [
    "df['KapasitasBattery'] = KapasitasBatterySkrg\n",
    "plt.plot(df['waktu'],df['KapasitasBattery'])\n",
    "plt.xlabel(\"Waktu(detik)\")\n",
    "plt.ylabel(\"C(Ah)\")\n",
    "plt.title(\"Kapasitas Baterainya\")\n",
    "plt.grid()\n",
    "plt.show()"
   ]
  },
  {
   "cell_type": "code",
   "execution_count": 11,
   "metadata": {},
   "outputs": [
    {
     "data": {
      "text/html": [
       "<div>\n",
       "<style scoped>\n",
       "    .dataframe tbody tr th:only-of-type {\n",
       "        vertical-align: middle;\n",
       "    }\n",
       "\n",
       "    .dataframe tbody tr th {\n",
       "        vertical-align: top;\n",
       "    }\n",
       "\n",
       "    .dataframe thead th {\n",
       "        text-align: right;\n",
       "    }\n",
       "</style>\n",
       "<table border=\"1\" class=\"dataframe\">\n",
       "  <thead>\n",
       "    <tr style=\"text-align: right;\">\n",
       "      <th></th>\n",
       "      <th>waktu</th>\n",
       "      <th>arus</th>\n",
       "      <th>KapasitasBattery</th>\n",
       "    </tr>\n",
       "  </thead>\n",
       "  <tbody>\n",
       "    <tr>\n",
       "      <th>35995</th>\n",
       "      <td>3599.5</td>\n",
       "      <td>1</td>\n",
       "      <td>1.000139</td>\n",
       "    </tr>\n",
       "    <tr>\n",
       "      <th>35996</th>\n",
       "      <td>3599.6</td>\n",
       "      <td>1</td>\n",
       "      <td>1.000111</td>\n",
       "    </tr>\n",
       "    <tr>\n",
       "      <th>35997</th>\n",
       "      <td>3599.7</td>\n",
       "      <td>1</td>\n",
       "      <td>1.000083</td>\n",
       "    </tr>\n",
       "    <tr>\n",
       "      <th>35998</th>\n",
       "      <td>3599.8</td>\n",
       "      <td>1</td>\n",
       "      <td>1.000056</td>\n",
       "    </tr>\n",
       "    <tr>\n",
       "      <th>35999</th>\n",
       "      <td>3599.9</td>\n",
       "      <td>1</td>\n",
       "      <td>1.000028</td>\n",
       "    </tr>\n",
       "  </tbody>\n",
       "</table>\n",
       "</div>"
      ],
      "text/plain": [
       "        waktu  arus  KapasitasBattery\n",
       "35995  3599.5     1          1.000139\n",
       "35996  3599.6     1          1.000111\n",
       "35997  3599.7     1          1.000083\n",
       "35998  3599.8     1          1.000056\n",
       "35999  3599.9     1          1.000028"
      ]
     },
     "execution_count": 11,
     "metadata": {},
     "output_type": "execute_result"
    }
   ],
   "source": [
    "df.tail()"
   ]
  },
  {
   "cell_type": "markdown",
   "metadata": {},
   "source": [
    "## Simulasi 3\n",
    "Parameter : <br>\n",
    "Waktu = 3600 detik / 1 jam<br>\n",
    "Arus = Non Konstant<br>\n",
    "sampling = 0.1 detik<br>\n",
    "Kapasitas Battery = 2 Ah<br>"
   ]
  },
  {
   "cell_type": "code",
   "execution_count": 12,
   "metadata": {},
   "outputs": [
    {
     "data": {
      "image/png": "[encoded data removed]",
      "text/plain": [
       "<Figure size 432x288 with 1 Axes>"
      ]
     },
     "metadata": {
      "needs_background": "light"
     },
     "output_type": "display_data"
    }
   ],
   "source": [
    "# definisikan funsgi mapping untuk persamaan garis lurus\n",
    "def mapping(x, in_min, in_max, out_min, out_max):\n",
    "    return (x - in_min) * (out_max - out_min) / (in_max - in_min) + out_min\n",
    "\n",
    "def makeCurrentGraph(cur):\n",
    "    if (cur <= (15*60) ):\n",
    "        return 1\n",
    "    elif (cur > (15*60)) & (cur <= (2*15*60)):\n",
    "        return mapping(cur, 15*60, 2*15*60, 1, 10)\n",
    "    elif (cur > (2*15*60)) & (cur <= (3*15*60)):\n",
    "        return 10\n",
    "    elif (cur > (3*15*60)):\n",
    "        return mapping(cur, 3*15*60, 4*15*60, 10, 1)\n",
    "\n",
    "newcurrent = np.zeros(len(df))\n",
    "    \n",
    "for i in df.index:    \n",
    "    newcurrent[i] = makeCurrentGraph(df['waktu'][i])\n",
    "df['arus'] = newcurrent\n",
    "plt.plot(df['waktu'], df['arus'])\n",
    "plt.title(\"Arus\")\n",
    "plt.xlabel('waktu(detik)')\n",
    "plt.xlabel('Arus (A)')\n",
    "plt.grid()\n",
    "plt.show()"
   ]
  },
  {
   "cell_type": "code",
   "execution_count": 13,
   "metadata": {},
   "outputs": [],
   "source": [
    "## Mulai Simulasi\n",
    "\n",
    "KapasitasBatterySkrg = np.zeros(len(df))\n",
    "KapasitasBatterySkrg[0] = 2 #Ah\n",
    "ts = 0.1\n",
    "\n",
    "for i in df.index-1:\n",
    "    try:\n",
    "        KapasitasBatterySkrg[i+1] = KapasitasBatterySkrg[i] - df['arus'][i] * (ts/3600) # Konvert dari s/detik ke h/jam\n",
    "    except:\n",
    "        continue"
   ]
  },
  {
   "cell_type": "code",
   "execution_count": 14,
   "metadata": {},
   "outputs": [
    {
     "data": {
      "image/png": "[encoded data removed]",
      "text/plain": [
       "<Figure size 432x288 with 1 Axes>"
      ]
     },
     "metadata": {
      "needs_background": "light"
     },
     "output_type": "display_data"
    }
   ],
   "source": [
    "df['KapasitasBattery'] = KapasitasBatterySkrg\n",
    "plt.plot(df['waktu'],df['KapasitasBattery'])\n",
    "plt.xlabel(\"Waktu(detik)\")\n",
    "plt.ylabel(\"C(Ah)\")\n",
    "plt.title(\"Kapasitas Baterainya\")\n",
    "plt.grid()\n",
    "plt.show()"
   ]
  },
  {
   "cell_type": "code",
   "execution_count": null,
   "metadata": {},
   "outputs": [],
   "source": []
  }
 ],
 "metadata": {
  "kernelspec": {
   "display_name": "Python 3",
   "language": "python",
   "name": "python3"
  },
  "language_info": {
   "codemirror_mode": {
    "name": "ipython",
    "version": 3
   },
   "file_extension": ".py",
   "mimetype": "text/x-python",
   "name": "python",
   "nbconvert_exporter": "python",
   "pygments_lexer": "ipython3",
   "version": "3.7.3"
  }
 },
 "nbformat": 4,
 "nbformat_minor": 2
}
